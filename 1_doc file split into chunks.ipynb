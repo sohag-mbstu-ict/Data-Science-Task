{
  "nbformat": 4,
  "nbformat_minor": 0,
  "metadata": {
    "colab": {
      "provenance": []
    },
    "kernelspec": {
      "name": "python3",
      "display_name": "Python 3"
    },
    "language_info": {
      "name": "python"
    },
    "gpuClass": "standard"
  },
  "cells": [
    {
      "cell_type": "code",
      "source": [],
      "metadata": {
        "id": "MZrt70NCWORz"
      },
      "execution_count": null,
      "outputs": []
    },
    {
      "cell_type": "code",
      "source": [
        "!pip install Unidecode"
      ],
      "metadata": {
        "colab": {
          "base_uri": "https://localhost:8080/"
        },
        "id": "16PeHMhLWOUl",
        "outputId": "0abf6380-a3b3-4e0c-8c78-6b2387981747"
      },
      "execution_count": 16,
      "outputs": [
        {
          "output_type": "stream",
          "name": "stdout",
          "text": [
            "Looking in indexes: https://pypi.org/simple, https://us-python.pkg.dev/colab-wheels/public/simple/\n",
            "Collecting Unidecode\n",
            "  Downloading Unidecode-1.3.6-py3-none-any.whl (235 kB)\n",
            "\u001b[2K     \u001b[90m━━━━━━━━━━━━━━━━━━━━━━━━━━━━━━━━━━━━━━━\u001b[0m \u001b[32m235.9/235.9 KB\u001b[0m \u001b[31m9.4 MB/s\u001b[0m eta \u001b[36m0:00:00\u001b[0m\n",
            "\u001b[?25hInstalling collected packages: Unidecode\n",
            "Successfully installed Unidecode-1.3.6\n"
          ]
        }
      ]
    },
    {
      "cell_type": "code",
      "source": [
        "!pip install autocorrect"
      ],
      "metadata": {
        "colab": {
          "base_uri": "https://localhost:8080/"
        },
        "id": "HBUal9s9XKqa",
        "outputId": "c1a47210-1cd4-497a-ad78-dc8893a75c94"
      },
      "execution_count": 17,
      "outputs": [
        {
          "output_type": "stream",
          "name": "stdout",
          "text": [
            "Looking in indexes: https://pypi.org/simple, https://us-python.pkg.dev/colab-wheels/public/simple/\n",
            "Collecting autocorrect\n",
            "  Downloading autocorrect-2.6.1.tar.gz (622 kB)\n",
            "\u001b[2K     \u001b[90m━━━━━━━━━━━━━━━━━━━━━━━━━━━━━━━━━━━━━━\u001b[0m \u001b[32m622.8/622.8 KB\u001b[0m \u001b[31m19.8 MB/s\u001b[0m eta \u001b[36m0:00:00\u001b[0m\n",
            "\u001b[?25h  Preparing metadata (setup.py) ... \u001b[?25l\u001b[?25hdone\n",
            "Building wheels for collected packages: autocorrect\n",
            "  Building wheel for autocorrect (setup.py) ... \u001b[?25l\u001b[?25hdone\n",
            "  Created wheel for autocorrect: filename=autocorrect-2.6.1-py3-none-any.whl size=622381 sha256=8e45228e4761a233b242e48604c049d9a66a643808c7d454f48f3a43186f9f39\n",
            "  Stored in directory: /root/.cache/pip/wheels/72/b8/3b/a90246d13090e85394a8a44b78c8abf577c0766f29d6543c75\n",
            "Successfully built autocorrect\n",
            "Installing collected packages: autocorrect\n",
            "Successfully installed autocorrect-2.6.1\n"
          ]
        }
      ]
    },
    {
      "cell_type": "code",
      "source": [
        "import unidecode\n",
        "import pandas as pd\n",
        "import re\n",
        "import time\n",
        "import nltk\n",
        "from nltk.corpus import stopwords\n",
        "nltk.download('stopwords')\n",
        "from nltk.tokenize import word_tokenize\n",
        "from nltk.stem import WordNetLemmatizer\n",
        "from autocorrect import Speller\n",
        "from bs4 import BeautifulSoup\n",
        "from nltk.corpus import stopwords\n",
        "from nltk import word_tokenize\n",
        "import string\n",
        "import timeit"
      ],
      "metadata": {
        "colab": {
          "base_uri": "https://localhost:8080/"
        },
        "id": "Vhksy5UiXOfy",
        "outputId": "5dee3851-17ee-4008-c5a3-e0abc86a1b56"
      },
      "execution_count": 18,
      "outputs": [
        {
          "output_type": "stream",
          "name": "stderr",
          "text": [
            "[nltk_data] Downloading package stopwords to /root/nltk_data...\n",
            "[nltk_data]   Unzipping corpora/stopwords.zip.\n"
          ]
        }
      ]
    },
    {
      "cell_type": "code",
      "source": [
        "from google.colab import drive\n",
        "drive.mount('/DS')"
      ],
      "metadata": {
        "colab": {
          "base_uri": "https://localhost:8080/"
        },
        "id": "US7m6qs_VmZ5",
        "outputId": "1a4f6198-4093-4514-f4dd-f7a2a902bb94"
      },
      "execution_count": 2,
      "outputs": [
        {
          "output_type": "stream",
          "name": "stdout",
          "text": [
            "Mounted at /DS\n"
          ]
        }
      ]
    },
    {
      "cell_type": "code",
      "source": [
        "\n",
        "def open_file(filepath):\n",
        "    with open(filepath, 'r', encoding='cp1252') as infile:\n",
        "        return infile.read()\n"
      ],
      "metadata": {
        "id": "IOqBqmVRVwwz"
      },
      "execution_count": 10,
      "outputs": []
    },
    {
      "cell_type": "code",
      "source": [
        "texts = open_file('/DS/MyDrive/DS/DataLaw.txt')"
      ],
      "metadata": {
        "id": "oLGlYwDBVwzN"
      },
      "execution_count": 12,
      "outputs": []
    },
    {
      "cell_type": "code",
      "source": [],
      "metadata": {
        "id": "08rMSBvdVw1_"
      },
      "execution_count": null,
      "outputs": []
    },
    {
      "cell_type": "code",
      "source": [
        "def remove_newlines_tabs(text):\n",
        "    # Replacing all the occurrences of \\n,\\\\n,\\t,\\\\ with a space.\n",
        "    Formatted_text = text.replace('\\\\n', ' ').replace('\\n', ' ').replace('\\t',' ').replace('\\\\', ' ').replace('. com', '.com')\n",
        "    return Formatted_text"
      ],
      "metadata": {
        "id": "JVEdI54v5btc"
      },
      "execution_count": 13,
      "outputs": []
    },
    {
      "cell_type": "code",
      "source": [
        "texts=remove_newlines_tabs(str(texts))"
      ],
      "metadata": {
        "id": "LpO2AmYOkMns"
      },
      "execution_count": 14,
      "outputs": []
    },
    {
      "cell_type": "code",
      "source": [
        "def spelling_correction(text):\n",
        "\n",
        "    # Check for spellings in English language\n",
        "    spell = Speller(lang='en')\n",
        "    Corrected_text = spell(text)\n",
        "    return Corrected_text\n"
      ],
      "metadata": {
        "id": "ddO7bLD2hfhJ"
      },
      "execution_count": 19,
      "outputs": []
    },
    {
      "cell_type": "code",
      "source": [
        "texts=spelling_correction(texts)"
      ],
      "metadata": {
        "id": "7Hx86xVYVmXb"
      },
      "execution_count": 20,
      "outputs": []
    },
    {
      "cell_type": "code",
      "source": [
        "\n",
        "def nearestDelimiter(txt,  cur):\n",
        "    delimiters = \" ;:.!?-—\"          \n",
        "    if(txt[cur] in delimiters) :          \n",
        "          return cur\n",
        "    else:\n",
        "        i=cur\n",
        "        while ( i>=0 ):\n",
        "            if (txt[i] in delimiters) :                    \n",
        "                        return i\n",
        "            i=i-1\n",
        "    return 0\n",
        "\n"
      ],
      "metadata": {
        "id": "a0KcOugzVmcN"
      },
      "execution_count": 21,
      "outputs": []
    },
    {
      "cell_type": "code",
      "source": [
        "def splitText(sentence,chunkLength):\n",
        "     cursor = 0  \n",
        "     curlng = chunkLength\n",
        "     lst = []\n",
        "     while (curlng < len(sentence)):\n",
        "         curlng = nearestDelimiter(sentence, curlng)       \n",
        "         substr = (sentence[cursor : curlng]).strip()\n",
        "         cursor = curlng        \n",
        "         curlng = (cursor+chunkLength) if (cursor+chunkLength<len(sentence)) else len(sentence)            \n",
        "         lst.append(substr)\n",
        "     lst.append((sentence[cursor : curlng]).strip())\n",
        "     return lst"
      ],
      "metadata": {
        "id": "aNgpNV9QXUlz"
      },
      "execution_count": 22,
      "outputs": []
    },
    {
      "cell_type": "code",
      "source": [
        "cvv = splitText(texts,384)\n",
        "# for cv in cvv:\n",
        "#     print(cv)"
      ],
      "metadata": {
        "id": "tnnLnHAOXUoa"
      },
      "execution_count": 30,
      "outputs": []
    },
    {
      "cell_type": "code",
      "source": [
        "v=[]\n",
        "\n",
        "for cv in cvv:\n",
        "  v.append(cv)"
      ],
      "metadata": {
        "id": "59_nIbBYXUrB"
      },
      "execution_count": 31,
      "outputs": []
    },
    {
      "cell_type": "code",
      "source": [
        "v"
      ],
      "metadata": {
        "colab": {
          "base_uri": "https://localhost:8080/"
        },
        "id": "Pfv2kKU0YNhF",
        "outputId": "c22aaadc-19f6-49e7-dc4d-4617604966d6"
      },
      "execution_count": 32,
      "outputs": [
        {
          "output_type": "execute_result",
          "data": {
            "text/plain": [
              "['Disclaimer: All of the translations contained on this website are unofficial. Only the original Slovene texts of the laws and regulations have legal effect, and the translations are to be used solely as reference materials to aid in the understanding of Slovene laws and regulations. The Government of the Republic of Slovenia is not responsible for the accuracy, reliability or',\n",
              " 'currency of the translations provided on this website, or for any consequence resulting from the use of information on this website. For all purposes of interpreting and applying law to any legal issue or dispute, users should consult the original Slovene texts published in the Official Gazette of the Republic of Slovenia. The unofficial consolidated version of the Agricultural',\n",
              " 'Land Act comprises: -         Agricultural Land Act – ZZ (Official Gazette of the Republic of Slovenia [Radii list S], No. 59/96 of 25 October 1996), -         Decision abrogating the provision of paragraph two of Article 124 of the Agricultural Land Act (Official Gazette of the Republic of Slovenia [Radii list S], No. 31/98 of 18 April 1998), -         Replacement of the Retail',\n",
              " 'Price Index by the Cost of Living Index Act – NIC (Official Gazette of the Republic of Slovenia [Radii list S], No. 1/99 of 9 January 1999), -         Agriculture Act – Name (Official Gazette of the Republic of Slovenia [Radii list S], No. 54/00 of 16 June 2000), -         Decision abrogating the first sentence of paragraph two of Article 115 of the Agricultural Land Act and',\n",
              " 'abrogating part of the second sentence of paragraph two of Article 115 of the same Act (Official Gazette of the Republic of Slovenia [Radii list S], No. 68/00 of 31 July 2000), -         Decision abrogating Chapter II of the Agricultural Land Act with a suspension deadline of one year (Official Gazette of the Republic of Slovenia [Radii list S], No. 68/00 of 31 July 2000), -',\n",
              " 'Marine Fisheries Act – MR-1 (Official Gazette of the Republic of Slovenia [Radii list S], No. 58/02 of 4 July 2002), -         Act Amending the Agricultural Land Act – ZZ-A (Official Gazette of the Republic of Slovenia [Radii list S], No. 67/02 of 26 July 2002), -         Spatial Management Act – Ure-1 (Official Gazette of the Republic of Slovenia [Radii list S], No. 110/02 of',\n",
              " '18 December 2002), -         Construction Act – GO-1 (Official Gazette of the Republic of Slovenia [Radii list S], No. 110/02 of 18 December 2002), -         Act Amending the Agricultural Land Act – ZZ-B (Official Gazette of the Republic of Slovenia [Radii list S], No. 36/03 of 16 April 2003), -         Agricultural Land Act – Official Consolidated Text – ZZ-UP1 (Official Gazette',\n",
              " 'of the Republic of Slovenia [Radii list S], No. 55/03 of 9 June 2003), -         Act Amending the Agricultural Land Act – ZZ-C (Official Gazette of the Republic of Slovenia [Radii list S], No. 43/11 of 2 June 2011), -         Agricultural Land Act – Official Consolidated Text – ZZ-UP2 (Official Gazette of the Republic of Slovenia [Radii list S], No. 71/11 of 9 September 2011), -',\n",
              " 'Act Amending the Agricultural Land Act – ZZ-D (Official Gazette of the Republic of Slovenia [Radii list S], No. 58/12 of 31 July 2012), -         Act Amending the Agricultural Land Act – ZZ-E (Official Gazette of the Republic of Slovenia [Radii list S], No. 27/16 of 11 April 2016), -         Act Amending the Agriculture Act – Name-1D (Official Gazette of the Republic of',\n",
              " 'Slovenia [Radii list S], No. 27/17 of 2 June 2017), -         Act Amending the Agricultural Land Act – ZZ-F (Official Gazette of the Republic of Slovenia [Radii list S], No. 79/17 of 28 December 2017). AGRICULTURAL AND CT (ZZ) (Unofficial consolidated version No. 17) I. GENERAL PROVISIONS Article 1 This Act regulates the protection and management of agricultural land by laying',\n",
              " 'down its classification, use and cultivation, agricultural land transactions and lease arrangements, agricultural operations and common pasture. The provisions of this Act shall also apply mutation mutants to forests unless otherwise provided by an Act. Article 1a The goals of this Act shall be the following: -         to preserve and improve production potential and increase',\n",
              " 'agricultural land area intended for food production; -         to foster the sustainable management of fertile soil; -         to foster landscape preservation and preserve and develop rural areas. Article 1b In order to achieve the goals referred to in the preceding Article, the Government of the Republic of Slovenia (hereafter: Government) shall adopt agricultural land policy',\n",
              " 'measures. The subject of agricultural land policy measures shall be agricultural land as referred to in paragraph two of Article 2 of his Act. The funds for drawing up and implementing agricultural land policy measures shall be provided from: -         compensation due to the conversion of agricultural land to other uses; -         other budgetary funds of the Republic of Slovenia',\n",
              " '; -         other sources. Agricultural land policy measures shall address the overgrown of agricultural land and the implementation of agricultural operations. The Agency of the Republic of Slovenia for Agricultural Markets and Rural Development shall be responsible for the implementation of the measures referred to in the preceding paragraph. For these measures, the provisions of',\n",
              " 'the Act regulating agriculture shall apply to beneficiaries, while the provisions of the aforementioned Act that regulate the procedure for the implementation of rural development policy measures shall apply to the procedure for the implementation of measures. The measures referred to in paragraph four of this Article may also be carried out by the Farmland and Forest Fund of the',\n",
              " 'Republic of Slovenia (hereafter: Fund); in addition, the purchase of agricultural land by the Fund shall also be deemed to be an agricultural land policy measure. The Fund shall carry out these measures in accordance with the approved annual work programme. The funds referred to in paragraph four of this Article acquired by the Fund for the implementation of the measures referred',\n",
              " 'to in this paragraph shall be included in the funds acquired by the Fund in accordance with the Act regulating the Farmland and Forest Fund of the Republic of Slovenia. Article 1ba The funds collected from compensation due to the conversion of agricultural land to other uses may be appropriated for the funding of the construction, remediation or modernisation of water reservoirs',\n",
              " 'that have the status of water infrastructure in accordance with the regulations governing waters and are also intended for the irrigation of agricultural land. The amount of funding as well as mutual rights, obligations and deadlines shall be stipulated by a contract between the ministry responsible for agriculture and the person investing in works on the water reservoir referred',\n",
              " 'to in the preceding paragraph. The percentage of funds allocated for the works referred to in the preceding paragraph may not exceed the percentage of the volume of the water reservoir that is intended for the irrigation of agricultural land. Article 1c For the drawing up of the background documents referred to in paragraph two of Article 3c of this Act, the study referred to in',\n",
              " 'paragraph eight of Article 3c of this Act and the analyses referred to in paragraphs five and six of Article 3e of this Act, and for the drawing up of proposals for the introduction of agricultural operations and studies related thereto, the organisations referred to in Article 3f of this Act, the producers and rafters of spatial planning documents and the entities proposing',\n",
              " 'agricultural operations shall obtain data from official databases, except personal data. For the drawing up of proposals for the introduction of agricultural operations and other studies related thereto, entities proposing agricultural operations may, in addition to the data referred to in the preceding paragraph, obtain and further process the following personal data from the',\n",
              " 'land register: personal name, residential address and unique personal identification number (hereafter: PIN) of owners or losses. For the purpose of drawing up the study referred to in paragraph eight of Article 3c of this Act and the analyses referred to in paragraph six of Article 3e of this Act, producers and rafters of spatial documents may obtain and use data on the',\n",
              " 'identification number of agricultural holdings in relation to the corresponding graphical land use units of agricultural holdings from the register of agricultural holdings kept in accordance with the Act regulating agriculture. The ministry responsible for agriculture, the organisations referred to in Article 3f of this Act, the producers and rafters of spatial documents and',\n",
              " 'entities proposing agricultural operations may obtain data on agricultural land from official databases free of charge. In. THE CLASSIFICATION, PROTECTION, SE AND CULTIVATION Of AGRICULTURAL AND Article 2 Agricultural land under this Act shall mean land suitable for agricultural production that is designated as agricultural land in accordance with paragraphs two and three of this',\n",
              " 'Article. Agricultural land shall be determined by the spatial planning documents of local communities as areas of agricultural land and shall be classified as either areas of permanently protected agricultural land or areas of other agricultural land. For the implementation of Articles 4 and 7 of this Act and the implementation of the provisions referring to common pastures, in',\n",
              " 'addition to the land referred to in the preceding paragraph, land designated for non-agricultural use in spatial planning documents of local communities that is classified as arable fields, home gardens, grassland, permanent roland and other agricultural land according to the records of the actual use of agricultural and forest land (hereafter: records of actual land use) in',\n",
              " 'accordance with the Act regulating agriculture shall be deemed to be agricultural land. Article 3 The ministry responsible for agriculture shall be responsible for agricultural land management in spatial planning procedures pursuant to the regulations governing spatial planning. The ministry responsible for agriculture shall be responsible for land management also in spatial',\n",
              " 'planning procedures where the surface area and the detailed designated use of land that includes agricultural production facilities within the production areas are subject to change. Article 3a At the request of the ministry responsible for agriculture, the Fund shall participate in carrying out the duties of the ministry responsible for agriculture in spatial planning procedures.',\n",
              " 'Article 3b Taking into account the national strategic spatial planning document, the Government shall designate, by a regulation, the agricultural and food production areas of strategic importance for the Republic of Slovenia due to the production potential of the agricultural land, its surface area, territorial compactness, food production capacity, the preservation of its rural',\n",
              " 'character, rural development and landscape preservation. The areas referred to in the preceding paragraph shall represent potential areas of permanently protected agricultural land. Article 3c Proposals of permanently protected agricultural land areas shall be drawn up on the basis of the surface area and territorial compactness thereof, while taking into account the following',\n",
              " 'conditions: -         the land rating of the agricultural land pursuant to the regulations governing real estate records (hereafter: land rating of agricultural land) is higher than 35, -         the inclination is not more than 11 percent, -         land consolidation, drainage or irrigation have been carried out, -         the availability of water sources suitable for',\n",
              " 'irrigation, -         the existence of permanent roland, or -         the local characteristics of agricultural production and use of agricultural land. For each local community and at the expense of the ministry responsible for agriculture, an organisation referred to in Article 3f of this Act shall draw up a background document in the field of agriculture (hereafter: background',\n",
              " 'document) that must include findings on compliance with the conditions referred to in the preceding paragraph. At the request of the ministry responsible for agriculture, the background document must include findings on compliance with the conditions referred to in the preceding paragraph also for other land potentially suitable for agricultural production. In the background',\n",
              " 'document, the organisation referred to in Article 3f of this Act shall, based on the findings referred to in the preceding paragraph, draw up a proposal of areas of: -         permanently protected agricultural land with regard to the regulation referred to in Article 3b of this Act, and -         other agricultural land. The ministry responsible for agriculture shall have',\n",
              " 'background documents drawn up when it is evident from a spatial information system, in accordance with the Act regulating spatial planning, that a decision on the beginning of the procedure for drawing up a spatial planning document has been adopted from which it follows that the spatial planning document proposes a change to the designated use of agricultural land, pursuant to',\n",
              " 'the Act regulating spatial planning. An organisation referred to in Article 3f of this Act shall draw up the background document referred to in this Article within three months of receiving an order. The ministry responsible for agriculture shall publish on its website the proposals of areas referred to in paragraph three of this Article. In drafting a spatial planning document,',\n",
              " 'the local community must take into account the data in the background document and planning shall first take place regarding land designated for non-agricultural use while taking into account the principles of the Act regulating spatial planning. If this is not possible, however, while taking into account the proposal of areas of permanently protected and other agricultural land,',\n",
              " 'planning shall first take place regarding areas of the proposed other agricultural land and only subsequently regarding areas of the proposed permanently protected agricultural land; for such areas, planning shall first take place regarding agricultural land with a lower land rating. The local community must attach to the draft spatial planning document a study of developments on',\n",
              " 'agricultural land showing that the planned developments are in accordance with the preceding paragraph. The spatial planning document of a local community shall determine areas of permanently protected and other agricultural land. The minister responsible for agriculture shall determine the detailed content of the background documents referred to in paragraph two of this Article.',\n",
              " 'The minister responsible for agriculture, in agreement with the minister responsible for spatial planning, shall determine the detailed content of the study referred to in paragraph eight of this Article. The minister responsible for agriculture shall determine the detailed conditions referred to in paragraph one of this Article. Article 3? In its spatial planning document, a',\n",
              " 'local community may allow within agricultural land areas the construction of facilities or developments as follows: a)    agricultural operations and water reservoirs for the purpose of irritating agricultural land; b)    simple and non-complex auxiliary agricultural and forestry facilities in accordance with the regulation governing the classification of structures with regard to',\n",
              " 'their complexity, except cellars and wine cellars; c)    structures that are products placed on the market pursuant to the regulation governing technical requirements for products and conformity assessment and which may be, in accordance with the regulation governing the classification of structures with regard to their complexity, classified as auxiliary agricultural and forestry',\n",
              " 'facilities, except cellars and wine cellars, whose size shall not exceed the size of non-complex structures, except built greenhouses, which may exceed the size of non-complex structures; ?) beehive, i.e. wooden, single-storey, ground-level structures on point foundations, intended for beekeeping, with a floor area up to and including 40 m2; d)    sheds, i.e. wooden, single',\n",
              " '-storey, ground level structures on point foundations, intended for sheltering grazing farm animals, with a floor area up to and including 100 m2; e)    auxiliary agricultural and forestry equipment (e.g. grape vine realises, wind battles, posts, poles, wire supports, hail protection net supports, bird protection net supports, pens, livestock gazing fences, fences and supports for',\n",
              " 'permanent crops, fences for the protection of crops, movable tunnels and canopies, protective netting); f)         auxiliary structures for monitoring the state of the environment and natural phenomena; g)    research on subterranean waters, mineral resources and geothermal energy sources; h)    temporary structures and temporary activities during events or seasons: -  a stage',\n",
              " 'with a roof made of prefabricated components, -  a circus if the tent and other structures are prefabricated, -  a temporary open air gallery for an audience, -  movable wooden structures for animal rearing (e.g. movable beehive, movable hen houses, movable rabbit houses); i)         hides, i.e. wooden structures without foundations (hunting blinds, bird observatories); j)',\n",
              " 'provisional arrangements for the purpose of defence and protection against natural and other disasters; k)    access to a facility complying with a spatial planning document in the case of a facility that: -  is allowed to be built on agricultural land, -  is recognised as a dispersed construction (land underneath buildings outside areas of construction land), or -  is allowed to',\n",
              " 'be built within the area of a dispersed settlement; l)         civil engineering facilities that are classified into two groups according to the regulations on the introduction and application of the uniform classification of facilities and on the designation of facilities of national importance: -  long distance pipelines, long distance (backbone) communication networks and long',\n",
              " 'distance power transmission lines, along with the associated facilities and connections thereto, and -  local pipelines, local (distribution) power lines and local (access) communication networks, along with the associated facilities and connections thereto; m)  the reconstruction of municipal and state roads in accordance with the Act regulating roads. Also permitted are',\n",
              " 'facilities required for the planned reconstruction of roads (e.g. roofed bus stop shelters, cycling trails and hiking trails, retaining and support walls, overpass, underpass, converts, noise barriers, auxiliary road structures, urban equipment) and public utility infrastructure structures that must be built or relocated along a road due to road reconstruction; n)    small wind',\n",
              " 'farms with a nominal power up to 1 M, in the case of agricultural land with a land rating of less than 35. Notwithstanding point b) of the preceding paragraph, in its spatial planning document a local community may allow only the following simple and non-complex auxiliary agricultural and forestry facilities to be built in areas with permanently protected agricultural land:',\n",
              " 'greenhouses, fences for livestock grazing, game pens, fences and supports for permanent crops, supports for anti-hail nets, fences for crop protection, barracks, double barracks, milling parlour, watering trough, and farm sheds. Notwithstanding point c) of paragraph one of this Article, in its spatial planning document a local community may only allow the following facilities that',\n",
              " 'are products placed on the market pursuant to the regulation governing technical requirements for products and conformity assessment and whose size does not exceed the size of non-complex structures, except built greenhouses, which may exceed the size of non-complex structures, to be built in areas of permanently protected agricultural land: greenhouses, fences for livestock',\n",
              " 'grazing, game pens, fences and supports for permanent crops, supports for anti-hail nets, fences for crop protection, barracks, double barracks, milling parlour, watering trough, and farm sheds. In its spatial planning document, a local community may prescribe conditions stricter than those laid down in Article 3?a of this Act regarding the required surface area of agricultural',\n",
              " 'land that must be met by investors in order to build the sheds referred to in point d) of paragraph one of this Article, auxiliary agricultural and forestry facilities referred to in points b) and c) of paragraph one of this Article, and structures referred to in paragraphs two and three of this Article that are classified as non-complex structures pursuant to the regulation',\n",
              " 'governing the classification of structures with regard to their complexity, except greenhouses, fences for livestock grazing, game pens, fences and supports for permanent crops and supports for hail nets and fences for the protection of agricultural products. In addition to the conditions referred to in the preceding paragraph, in its spatial planning document a local community',\n",
              " 'may prescribe additional conditions and criteria that must be met by investors in order to build on agricultural land, which shall apply to the construction of structures referred to in paragraph one of this Article, except provisional arrangements for the purpose of defence and protection against natural and other disasters. On permanently protected agricultural land it shall not',\n",
              " 'be permitted to establish areas for mitigation and compensatory measures under the Act regulating nature conservation. Notwithstanding the preceding Article, areas for mitigation or compensatory measures under the Act regulating nature conservation that are related to existing or planned spatial developments of national importance in the field of road and railway infrastructure',\n",
              " 'referred to in paragraph one or two of Article 3e of this Act may be exceptionally established on permanently protected agricultural land if they cannot be located on other land. The auxiliary agriculture and forest facilities referred to in points b) and c) of paragraph one of this Article and paragraphs two and three of this Article, the beehive referred to in point ?) of',\n",
              " 'paragraph one of this Article and the sheds referred to in point d) of paragraph one of this Article may be used exclusively for agricultural purposes. The minister responsible for agriculture shall, in accordance with the minister responsible for defence, specify in further detail the types of provisional arrangements for the purpose of defence and protection against natural and',\n",
              " 'other disasters referred to in point j) of paragraph one of this Article. Article 3?a Notwithstanding the Act regulating construction, sheds and auxiliary agriculture and forest facilities that are classified as non-complex structures pursuant to the regulation governing the classification of structures with regard to their complexity, except greenhouses, fences for livestock',\n",
              " 'grazing, game pens, fences and supports for permanent crops and supports for hail nets and fences for the protection of agricultural products, shall be built on agricultural land by investors who are owners or losses of: a)    at least 1 ha of land classified as arable fields, home gardens, grassland, permanent roland and other agricultural land according to the records of actual',\n",
              " 'land use, or b)    at least 5,000 m2 of land classified as permanent roland according to the records of actual land use. Article 3d Areas of permanently protected agricultural land may not be changed for at least ten years from the entry into force of the spatial planning document of a local community by which such areas were determined. Notwithstanding the preceding paragraph,',\n",
              " 'the following facilities may be planned within areas of permanently protected agricultural land in the spatial planning documents of local communities by converting the agricultural use of land to other uses before the expiration of the period referred to in the preceding paragraph: -         road infrastructure of local importance necessary for connection to the road',\n",
              " 'infrastructure referred to in paragraph one or two of Article 3e of this Act, -         the partial or complete relocation of agricultural holdings related to the planning of the road infrastructure referred to in paragraph one or two of Article 3e of this Act, -         water infrastructure and water regulation developments of vital importance for protection against the harmful',\n",
              " 'effects of water as well as the water infrastructure and water regulation developments of local importance referred to in paragraph one or two of Article 3e of this Act. A local community must first plan the developments referred to in the preceding paragraph on land designated for non-agricultural use. If this is not possible, they must first be planned in areas of other',\n",
              " 'agricultural land and only afterwards in areas of permanently protected agricultural land; in these areas, the planning shall first take place regarding agricultural land with a lower land rating. In the spatial planning procedure of local communities, areas of other agricultural land may also be converted before the expiration of the period referred to in paragraph one of this',\n",
              " 'Article. In such cases, the principle of the Act regulating spatial planning must be taken into account and the planning shall first take place regarding land designated for non-agricultural use. Where this is not possible, the planning shall first take place regarding areas of other agricultural land with a lower land rating. The local community must attach to the draft spatial',\n",
              " 'planning document referred to in this Article a study of developments on agricultural land showing that the developments are being planned in accordance with paragraph three of this Article or the preceding paragraph. After the termination of the period referred to in paragraph one of this Article, the conversion of areas of permanently protected agricultural land and areas of',\n",
              " 'other agricultural land may be carried out according to the procedure referred to in Article 3c of this Act, whereby an organisation referred to in Article 3f of this Act shall verify the data contained in the background document. The minister responsible for agriculture, in agreement with the minister responsible for spatial planning, shall specify the detailed content of the',\n",
              " 'study referred to in paragraph five of this Article. Article 3e Notwithstanding the provisions of paragraph one of the preceding Article, the expansion of areas of existing development projects of national importance may be planned within areas of permanently protected agricultural land before the termination of the period referred to in paragraph one of the preceding Article.',\n",
              " 'Notwithstanding the provisions of paragraph one of the preceding Article, the following new development projects of national importance in the following fields may be planned within areas of permanently protected agricultural land prior to the termination of the period referred to in paragraph one of the preceding Article: a)    road infrastructure; b)    railway infrastructure;',\n",
              " 'c)    energy infrastructure for electricity supply, as follows: -  hydroelectric power plants, geothermal wells, power lines, natural gas pipelines, hot water pipelines and oil pipelines and connections thereto; -  wind farms on agricultural land with a land rating up to and including 40; ?) water infrastructure and water regulation projects; d)    defences and protection against',\n",
              " 'natural and other disasters; e)    air transport, i.e. radio navigation devices in air traffic control. Development projects of national importance referred to in paragraphs one and two of this Article shall first be sited on land designated for non-agricultural use. Where this is not possible, development projects of national importance shall, while taking into account areas of',\n",
              " 'permanently protected and other agricultural land, first be sited within areas of other agricultural land and only afterwards within areas of permanently protected agricultural land and within these areas, planning shall first take place regarding agricultural land with a lower land rating. At the same time, existing networks of transport and public utility infrastructure must be',\n",
              " 'taken into account to the greatest extent possible and the planning must be carried out rationally and in a manner enabling the maximum preservation of agricultural land and its territorial compactness. In preparing an initiative for the drawing up of the national spatial plan, an initiator pursuant to the Act regulating the citing of development projects of national Importance',\n",
              " '(hereafter: initiator) must take into account areas of permanently protected and other agricultural land for local communities whose territory is to be included in the plan. When a development project of national importance is planned in areas of permanently protected and other agricultural land, the producer of the spatial planning document for the preparation of a study of',\n",
              " 'variants provided by the regulations governing the citing of development projects of national importance shall conduct an analysis of the impact of developments on agricultural land, containing: -         the extent of the impact of individual variants with respect to the land rating of agricultural land; -         the extent of the impact of individual variants on the area of',\n",
              " 'agricultural operations that have been carried out; -         types of developments and their impact on territorial compact agricultural land areas. In the stage of drafting the national spatial plan, an analysis of the impact of developments on agricultural land shall be conducted for the selected variant, which shall contain the extent of the impact of development projects on',\n",
              " 'graphical units of land use of agricultural holdings for individual agricultural holdings in accordance with the Act regulating agriculture. Article 3ea In its municipal detailed spatial plan (hereafter: MSP), a local community may, in accordance with the Act regulating spatial planning and provided that this is not in contravention of the strategic spatial development guidelines',\n",
              " 'of the local community, plan the following agricultural facilities directly intended for agricultural activity: a)    structures for crop production, if the manner of production is directly linked to agricultural land; b)       structures for animal husbandry (poultry farms, stalls, piggeries, sheds, stud farms and similar facilities for animal husbandry), including facilities for',\n",
              " 'manure and blurry storage, except facilities for which an environmental impact assessment must be conducted in accordance with the regulation governing activities subject to an environmental impact assessment; c)       facilities for crop storage (farm silos, granaries, cellars, haylofts, barns, drying frames, corn granaries and similar structures for crop storage, except wine',\n",
              " 'cellars and vineyard houses) and facilities for the processing of own agricultural products (cheese diaries, fruit-drying kilns, etc.); ?) other non-residential agricultural facilities (structures for the storage of agricultural equipment, tools and machinery). The facilities referred to in this Article shall be planned in the vicinity of the existing location of the agricultural',\n",
              " 'holding or cooperative registered for agricultural activity; where this is not possible; however, they shall first be planned regarding agricultural land with a lower land rating. For planning the facilities under this Article, a local community must attach a study to the draft MSP showing that the facilities referred to in this Article are planned in accordance with the preceding',\n",
              " 'paragraph. Only initiatives regarding subjects that meet the following conditions may be included in the procedure for the drawing up of a MSP referred to in this Article: a)    in the case of a farm under the Act regulating agriculture, the holder of such a farm must be covered by obligatory pension and disability insurance pursuant to Article 17 of the Pension and Disability',\n",
              " 'Insurance Act (Official Gazette of the Republic of Slovenia [Radii list S], Nos 96/12, 39/13, 99/13 – ZSVarPre-C, 101/13 – ZIP1415, 44/14 – ORZPIZ206, 85/14 – JF-B, 95/14 – JF-C, 90/15 – ZIUPTD and 102/15); b)    in the case of an agricultural holding under the Act regulating agriculture organised as a sole proprietor or a legal entity, such agricultural holding must generate at',\n",
              " 'least 60 percent of its annual income through agricultural activity in the year prior to the submission of the initiative referred to in paragraph five of this Article, whereby such income must exceed EUR 30,000; c)    in the case of a cooperative registered for agricultural activity, the cooperative must generate at least EUR 50,000 of its annual income through agricultural',\n",
              " 'activity in the year prior to the submission of the initiative referred to in paragraph five of this Article; ?) in the case of an agricultural community registered pursuant to the Agricultural Communities Act (Official Gazette of the Republic of Slovenia [Radii list S], No. 74/15), such agricultural community must own at least 20 hectares of agricultural land. An initiative',\n",
              " 'referred to in the preceding paragraph shall be submitted to the local community: Notwithstanding the provisions of the Act regulating spatial planning, a local community shall, by a decision on the drawing up of the MSP, verify compliance with the conditions referred to in points a), b), c) and ?) of paragraph four of this Article. When the facilities under this Article are',\n",
              " 'planned regarding agricultural land owned by the Republic of Slovenia, a manager of agricultural land owned by the Republic of Slovenia must agree to the planned facilities. For the purpose of assessing the public utilities charge, land within the MSP referred to in this Article shall be deemed to be construction land. Notwithstanding paragraph one of this Article, the MSP may be',\n",
              " 'used to plan the relocation of an entire agricultural holding, whereby a permit for the construction of a residential building may, notwithstanding the Act regulating construction, be issued only after obtaining an operating permit for agricultural facilities referred to in paragraph one of this Article. The agricultural facilities referred to in paragraph one of this Article may',\n",
              " \"be used exclusively for agricultural purposes. Notwithstanding the Act regulating spatial planning, a local community's spatial planning document that specifies the designated use of land shall be replaced by the MSP in the part determined by the MSP upon the MSP entering into force. On the first occasion of amending the local community's spatial planning document, the local\",\n",
              " \"community shall enter the changes that occurred upon the MSP entering into force into the local community's spatial planning document according to the procedure laid down by the Act regulating spatial planning. Article 3f The background documents referred to in Article 3c of this Act shall be drawn up by organisations that meet the prescribed technical, professional and\",\n",
              " 'organisational conditions and which are selected by the ministry responsible for agriculture in accordance with the regulations governing public procurement. The ministry responsible for agriculture shall publish the list of organisations on its website. The minister responsible for agriculture shall specify the technical, professional and organisational conditions referred to in',\n",
              " 'the preceding paragraph. Article 3g An investor applying for a building permit for the construction of a facility whose floor area or part thereof lies on agricultural land (hereafter: floor area for agricultural use) and the land parcel on which the floor area for agricultural use is located has a land rating of more than 50 in accordance with the regulations governing real',\n",
              " 'estate records must pay compensation due to the conversion of agricultural land to other uses (hereafter: land use conversion compensation). The floor area referred to in the preceding paragraph shall be deemed to be the gross floor area of a facility at the ground level pursuant to the regulation governing design documentation. Agricultural land referred to in paragraph one of',\n",
              " 'this Article shall be deemed to be land that, as is evident from the design documentation, is used as arable fields, home gardens, grassland, permanent roland or other agricultural land. In addition to the components laid down by the regulation governing design documentation, the design documentation for facilities for which the payment of land use conversion compensation is',\n",
              " 'obligatory must also include data on the type and surface area of the actual use of land on which the floor area of the facility is located, whereby the actual use shall be extracted from the records of actual land use in accordance with the Act regulating agriculture. Land use conversion compensation shall be calculated using the following equation: land use conversion',\n",
              " \"compensation = agricultural land area x A, whereby the A factor shall be determined on the basis of the land rating of the land on which the facility's layout is located and is registered in the land cadastral, amounting to: a)    for the construction of facilities that are, pursuant to regulations on the introduction and application of the uniform classification of facilities,\",\n",
              " 'classified in the group of transport infrastructure facilities and other civil engineering facilities, -  a land rating of 51–60: EUR 1, -  a land rating of 61–75: EUR 3, -  a land rating of 76–100: EUR 5; b)    for the construction of other facilities: -  a land rating of 51-60: EUR 4, -  a land rating of 61-75: EUR 12, -  a land rating of 76-100: EUR 20. If the layout of a',\n",
              " 'facility is located on parcels with various land ratings, the corresponding land rating shall be taken into account for each part of the layout. If the layout of a facility is located on a parcel with a land rating of zero in addition to a land rating of over 50, the land rating of over 50 shall be taken into account for the calculation of land use conversion compensation. If the',\n",
              " \"layout of a facility for which an application for the issuance of a building permit has been submitted is located on a parcel of land for which the land use conversion compensation that was partially or fully paid had been assessed and levied under previous regulations, land use conversion compensation shall not be assessed for the surface area of the facility's layout located on\",\n",
              " 'such parcel. Notwithstanding the provision of paragraph one of this Article, land use conversion compensation shall not be assessed in procedures for issuing building permits that refer to: -         the reconstruction or removal of facilities pursuant to the regulations governing construction; -         the construction of non-complex structures pursuant to the regulations',\n",
              " 'governing the classification of structures with regard to their complexity; -         changes in the designated use of facilities pursuant to the regulations governing construction; -         additions to buildings pursuant to the regulations governing construction; -         the construction of agricultural facilities classified as non-residential agricultural facilities pursuant',\n",
              " 'to regulations on the introduction and application of the uniform classification of facilities and on the designation of facilities of national importance; -         the construction of civil engineering facilities classified under the group of pipelines, communication networks and electricity lines pursuant to regulations on the introduction and application of the uniform',\n",
              " 'classification of facilities and on the designation of facilities of national importance. Article 3h Land use conversion compensation shall be assessed in an administrative procedure ex officio, upon receipt of the application referred to in paragraph one of the preceding Article, by an authority responsible for issuing building permits, which at the same time controls the',\n",
              " 'collection, payment and recording of compulsory charges and other general government revenues in accordance with the regulation governing sub-accounts and the method of payment of compulsory charges and other general government revenues. The ministry responsible for construction shall be competent for the handling of complaints in matters of the assessment of land use conversion',\n",
              " 'compensation at the second instance. Land use conversion compensation shall be assigned revenue of the budget of the Republic of Slovenia and shall be transferred to the sub-account of general government revenue in accordance with the regulation governing sub-accounts, the method of payment of compulsory charges, and other general government revenues. The funds collected from land',\n",
              " 'use conversion compensation payments shall be allocated for the funding of the preparation and implementation of the agricultural land policy measures referred to in paragraphs four and six of Article 1b of this Act, the operations referred to in Article 1.ba of this Act, the drawing up of the background documents referred to in Article 3c of this Act and other background',\n",
              " 'documents in the field of agricultural land policy and the protection of agricultural land. The payment of land use conversion compensation is one of the conditions for issuing a building permit in accordance with the Act regulating construction. For the purpose of monitoring claims, liabilities and payments deriving from compensation, an authority referred to in paragraph one of',\n",
              " 'this Article shall establish and keep records of the following data: the number of decisions on the assessment of land use conversion compensation, the personal name and address or registered office of investors, the parcel number and cadastral municipality of the land parcel to which the land use conversion compensation refers and the amount and date of payment or repayment. If',\n",
              " 'an investor who paid land use conversion compensation fails to obtain a final building permit or fails to start building the facility for which land use the conversion compensation has been paid, he or she shall have the right to claim a refund thereof within one year of the decision on the refusal to issue a building permit becoming final or the decision to terminate the',\n",
              " 'procedure or upon the expiry of the building permit. Decisions on the refund of land use conversion compensation under this Article and wrongly paid or overlaid compensation shall be adopted in an administrative procedure by an authority referred to in paragraph one of this Article at the request of the investor or ex officio. The refund of land use conversion compensation shall',\n",
              " 'be covered from assigned funds of the national budget of the Republic of Slovenia.                                                                   Article 3ha Notwithstanding paragraph three of the preceding Article, the condition for issuing a building permit in accordance with the Act regulating construction shall be the payment of half of the assessed land use conversion',\n",
              " 'compensation for facilities of national importance whose investor is the Republic of Slovenia and for which the assessed land use conversion compensation exceeds EUR 2,000,000. The payment of the other half shall be one of the conditions for obtaining an operating permit. If a facility referred to in the preceding paragraph is a water facility in accordance with the Act regulating',\n",
              " \"waters and is also intended for water abstraction for the irrigation of agricultural land, the land use conversion compensation shall, based on the Government's decision, be reduced by the value of investments in projects intended for water abstraction for the irrigation of agricultural land. This amount shall be deducted from the part of the assessed land use conversion\",\n",
              " 'compensation the investor must pay in order to obtain an operating permit, but it shall not exceed half the entire compensation. Article 3i Notwithstanding the provision referred to in indent three of paragraph nine of Article 3g of this Act, an investor who applies for a building permit for the construction of an agricultural facility shall be assessed the land use conversion',\n",
              " 'compensation for operations related to changes in the designated use of an agricultural facility referred to in indent five of paragraph nine of Article 3g of this Act for which the land use conversion compensation under this Act has not been paid. Article 4 Agricultural land must be used in accordance with its designated use and its pollution or other degradation as well as the',\n",
              " 'pollution of plants or any other inhibition of plant growth must be prevented. Agricultural land shall be deemed to be polluted when the soil contains such quantities of harmful substances that its self-cleaning capacity is reduced, its physical, chemical and biopic properties deteriorate, plant growth and development is inhibited or prevented, groundwater or plants are polluted',\n",
              " 'or the permanent soil fertility is reduced in any other manner due to harmful substances. Permanent soil fertility is ensured when soil: -         is not exposed to erosion; -         is not completed; -         contains an adequate quantity of human; -         does not inhibit undisturbed plant growth; -         enables the long-term development and quality of crops and forest',\n",
              " 'plants (vegetation); -         is capable of composing organic residues of plant and animal origin, animal or human increment, residues of pesticides and other substances that return to the natural cycle of matter as secondary raw materials; -         optimal absorbs, retains and releases water. The Government of the Republic of Slovenia (hereafter: the Government) shall prescribe',\n",
              " 'detailed criteria for permanent soil fertility and plant pollution and mandatory measures related thereto. Article 4a On land that is classified as agricultural land according to its designated and actual use, the planting of plantations of miscanthus and plantations of woody, shrub and tree species that are not intended for the cultivation of fruits and olives shall be permitted',\n",
              " 'only when its land rating is less than 30. A plantation under this Article shall mean a compact plantation of plants intended for commercial use with a density of 50 or more plants per hectare. Article 5 Legal entities or natural persons that are the owners, losses or other users of agricultural land (hereafter: owner, lesser or other user of agricultural land) must allow other',\n",
              " 'persons to carry out, in accordance with regulations, beekeeping, hunting and the recreational gathering of fruits of wild plants, herbaceous wild plants, mushrooms and wild animals on non-arable agricultural land owned or leased by them or otherwise allotted to them and allow other persons free access to non-arable agricultural land provided that no damage is caused by doing so.',\n",
              " 'Persons responsible for damage to land or crops shall be liable for compensation for damage to the owner, lesser or other user of agricultural land or crops in accordance with regulations. Article 6 The provisions of this Act with regard to the use and cultivation of agricultural land shall also apply to land that is designated as construction land or non-agricultural land in a',\n",
              " 'spatial planning document until a building permit or another relevant act is issued for such land in accordance with regulations. Article 7 An owner, lesser or other user of agricultural land referred to in paragraph three of Article 2 of this Act must: -         cultivate agricultural land with due diligence; -         prevent the natural succession of vegetation on agricultural',\n",
              " 'land, except on agricultural land that, in accordance with the regulation governing the records of actual land use, meets the conditions for land use classified as \"trees and shrubs\"; -         use farming methods appropriate for the land and location in order to prevent soil completion, erosion and pollution and to ensure the permanent fertility of land. For more efficient',\n",
              " 'implementation of indent one of the preceding paragraph, notwithstanding the provisions of the Law of Property Code, the following shall be sufficient for the determination of agricultural land user and land use practices: -         the consent of co-owners whose undivided interest represents more than half of the surface area of the land, if agricultural land is co-owned, -',\n",
              " 'the consent of more than half of the owners if agricultural land is co-owned. If the agricultural inspection authority establishes that an owner, lesser or other user of agricultural land fails to act in accordance with indent one of paragraph one of this Article, it shall impose the implementation of appropriate measures by a decision. An owner, lesser or other user of',\n",
              " 'agricultural land must carry out such measures within the time limits set by the decision, which, however, may not exceed a period of one year. If the agricultural inspection authority establishes that an owner, lesser or other user of agricultural land fails to act in accordance with indent two of paragraph one of this Article, it shall impose the implementation of appropriate',\n",
              " 'measures by a decision. An owner, lesser or other user of agricultural land must carry out such measures no later than within a year of being served the decision; otherwise, the necessary measures shall be carried out at the expense of the owner, lesser or other user of agricultural land in an executive procedure. If the implementation of the measures referred to in indent two of',\n",
              " 'paragraph one of this Article cannot be imposed upon the owner of agricultural land because his or her residence is unknown and he or she has no legal representative, such land shall be transferred to the Fund for temporary management. An agricultural inspector shall notify an administrative unit of the owner of agricultural land with an unknown residence and without a legal',\n",
              " 'representative and carry out the procedure for the transfer of such land to the Fund for temporary management. An administrative unit shall submit a proposal to a social work centre that a trustee be appointed for this specific case, who shall participate in the procedure for the transfer of such land to the Fund for temporary management. The right to the temporary management of',\n",
              " 'agricultural land shall ex officio be entered in the land register on the basis of the final decision of an administrative unit. An owner may submit an application to an administrative unit for the cessation of temporary management. Temporary management shall cease upon the decision on the cessation of temporary management becoming final. If such agricultural land has been leased',\n",
              " 'out and the owner and lesser do not agree otherwise, the lease shall cease three years after the decision on the cessation of temporary management becomes final, while the lesser shall have the right to cultivate the land until the crops have been harvested, but no later than until the end of the calendar year. In cases referred to in the preceding paragraph, the owner of',\n",
              " 'agricultural land shall be obliged to refund to the Fund or possible lesser all expenses and investments related to the land; if the land was leased out, the owner shall be entitled to half of the rent over the lease period during temporary management. The Government shall determine detailed criteria for assessing whether an owner, lesser or other user of agricultural land has',\n",
              " 'acted with due diligence. Persons who are not owners, losses or other users of agricultural land shall use agricultural land on their own responsibility.']"
            ]
          },
          "metadata": {},
          "execution_count": 32
        }
      ]
    },
    {
      "cell_type": "code",
      "source": [
        "len(v)"
      ],
      "metadata": {
        "colab": {
          "base_uri": "https://localhost:8080/"
        },
        "id": "D2aUuGDMYNkq",
        "outputId": "b3c8c4f7-56d6-42c1-c74a-7d88ddd92c79"
      },
      "execution_count": 33,
      "outputs": [
        {
          "output_type": "execute_result",
          "data": {
            "text/plain": [
              "137"
            ]
          },
          "metadata": {},
          "execution_count": 33
        }
      ]
    },
    {
      "cell_type": "code",
      "source": [
        "v[0]"
      ],
      "metadata": {
        "colab": {
          "base_uri": "https://localhost:8080/",
          "height": 70
        },
        "id": "16qtX3vwcPyp",
        "outputId": "2c444c31-6549-4a9c-a882-f6855cda7234"
      },
      "execution_count": 35,
      "outputs": [
        {
          "output_type": "execute_result",
          "data": {
            "text/plain": [
              "'Disclaimer: All of the translations contained on this website are unofficial. Only the original Slovene texts of the laws and regulations have legal effect, and the translations are to be used solely as reference materials to aid in the understanding of Slovene laws and regulations. The Government of the Republic of Slovenia is not responsible for the accuracy, reliability or'"
            ],
            "application/vnd.google.colaboratory.intrinsic+json": {
              "type": "string"
            }
          },
          "metadata": {},
          "execution_count": 35
        }
      ]
    },
    {
      "cell_type": "code",
      "source": [
        "v[136]"
      ],
      "metadata": {
        "colab": {
          "base_uri": "https://localhost:8080/",
          "height": 35
        },
        "id": "O4vX8-UUcP1H",
        "outputId": "00b07bb6-5203-4369-fb93-1db3e9f070e2"
      },
      "execution_count": 36,
      "outputs": [
        {
          "output_type": "execute_result",
          "data": {
            "text/plain": [
              "'acted with due diligence. Persons who are not owners, losses or other users of agricultural land shall use agricultural land on their own responsibility.'"
            ],
            "application/vnd.google.colaboratory.intrinsic+json": {
              "type": "string"
            }
          },
          "metadata": {},
          "execution_count": 36
        }
      ]
    },
    {
      "cell_type": "code",
      "source": [],
      "metadata": {
        "id": "snWuO96scP3Z"
      },
      "execution_count": null,
      "outputs": []
    },
    {
      "cell_type": "code",
      "source": [
        "len(texts)"
      ],
      "metadata": {
        "colab": {
          "base_uri": "https://localhost:8080/"
        },
        "id": "wBdXtmN9YNm8",
        "outputId": "e0b892b1-6cfe-4be7-b504-a85991300b50"
      },
      "execution_count": 34,
      "outputs": [
        {
          "output_type": "execute_result",
          "data": {
            "text/plain": [
              "51908"
            ]
          },
          "metadata": {},
          "execution_count": 34
        }
      ]
    },
    {
      "cell_type": "code",
      "source": [],
      "metadata": {
        "id": "iYVtAlK1Y9L0"
      },
      "execution_count": null,
      "outputs": []
    },
    {
      "cell_type": "code",
      "source": [],
      "metadata": {
        "id": "eBSc2aPWY9Ol"
      },
      "execution_count": null,
      "outputs": []
    },
    {
      "cell_type": "code",
      "source": [],
      "metadata": {
        "id": "4GBAkOk4Y9Wj"
      },
      "execution_count": null,
      "outputs": []
    },
    {
      "cell_type": "code",
      "source": [],
      "metadata": {
        "id": "R4A0tHflVmeZ"
      },
      "execution_count": null,
      "outputs": []
    }
  ]
}