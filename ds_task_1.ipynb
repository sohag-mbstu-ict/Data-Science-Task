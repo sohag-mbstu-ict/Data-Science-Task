{
  "nbformat": 4,
  "nbformat_minor": 0,
  "metadata": {
    "colab": {
      "provenance": []
    },
    "kernelspec": {
      "name": "python3",
      "display_name": "Python 3"
    },
    "language_info": {
      "name": "python"
    },
    "gpuClass": "standard"
  },
  "cells": [
    {
      "cell_type": "code",
      "source": [
        "!pip install Unidecode"
      ],
      "metadata": {
        "colab": {
          "base_uri": "https://localhost:8080/"
        },
        "id": "16PeHMhLWOUl",
        "outputId": "94252885-aae3-4c0d-cbe5-b2790bdee48d"
      },
      "execution_count": 1,
      "outputs": [
        {
          "output_type": "stream",
          "name": "stdout",
          "text": [
            "Looking in indexes: https://pypi.org/simple, https://us-python.pkg.dev/colab-wheels/public/simple/\n",
            "Requirement already satisfied: Unidecode in /usr/local/lib/python3.8/dist-packages (1.3.6)\n"
          ]
        }
      ]
    },
    {
      "cell_type": "code",
      "source": [
        "!pip install autocorrect"
      ],
      "metadata": {
        "colab": {
          "base_uri": "https://localhost:8080/"
        },
        "id": "HBUal9s9XKqa",
        "outputId": "98411446-fab9-41fe-d63c-251b18f04968"
      },
      "execution_count": 2,
      "outputs": [
        {
          "output_type": "stream",
          "name": "stdout",
          "text": [
            "Looking in indexes: https://pypi.org/simple, https://us-python.pkg.dev/colab-wheels/public/simple/\n",
            "Requirement already satisfied: autocorrect in /usr/local/lib/python3.8/dist-packages (2.6.1)\n"
          ]
        }
      ]
    },
    {
      "cell_type": "code",
      "source": [
        "import unidecode\n",
        "import pandas as pd\n",
        "import re\n",
        "import time\n",
        "import nltk\n",
        "from nltk.corpus import stopwords\n",
        "nltk.download('stopwords')\n",
        "from nltk.tokenize import word_tokenize\n",
        "from nltk.stem import WordNetLemmatizer\n",
        "from autocorrect import Speller\n",
        "from bs4 import BeautifulSoup\n",
        "from nltk.corpus import stopwords\n",
        "from nltk import word_tokenize\n",
        "import string\n",
        "import timeit"
      ],
      "metadata": {
        "colab": {
          "base_uri": "https://localhost:8080/"
        },
        "id": "Vhksy5UiXOfy",
        "outputId": "53fb61bb-d373-4392-af10-2d7114dcc108"
      },
      "execution_count": 3,
      "outputs": [
        {
          "output_type": "stream",
          "name": "stderr",
          "text": [
            "[nltk_data] Downloading package stopwords to /root/nltk_data...\n",
            "[nltk_data]   Package stopwords is already up-to-date!\n"
          ]
        }
      ]
    },
    {
      "cell_type": "code",
      "source": [
        "from google.colab import drive\n",
        "drive.mount('/DS')"
      ],
      "metadata": {
        "colab": {
          "base_uri": "https://localhost:8080/"
        },
        "id": "US7m6qs_VmZ5",
        "outputId": "8ed5f0a2-6a7b-4d5f-9aa2-aadcd6d2f4f9"
      },
      "execution_count": 4,
      "outputs": [
        {
          "output_type": "stream",
          "name": "stdout",
          "text": [
            "Drive already mounted at /DS; to attempt to forcibly remount, call drive.mount(\"/DS\", force_remount=True).\n"
          ]
        }
      ]
    },
    {
      "cell_type": "code",
      "source": [
        "\n",
        "def open_file(filepath):\n",
        "    with open(filepath, 'r', encoding='cp1252') as infile:\n",
        "        return infile.read()\n"
      ],
      "metadata": {
        "id": "IOqBqmVRVwwz"
      },
      "execution_count": 5,
      "outputs": []
    },
    {
      "cell_type": "code",
      "source": [
        "texts = open_file('/DS/MyDrive/DS/DataLaw.txt')"
      ],
      "metadata": {
        "id": "oLGlYwDBVwzN"
      },
      "execution_count": 6,
      "outputs": []
    },
    {
      "cell_type": "code",
      "source": [
        "\n",
        "#Install python-docx\n",
        "!pip install python-docx #<-- Yes you can directly install in Colab"
      ],
      "metadata": {
        "id": "08rMSBvdVw1_",
        "colab": {
          "base_uri": "https://localhost:8080/"
        },
        "outputId": "7b1c8e02-4853-417c-abe9-5fbb0ec60302"
      },
      "execution_count": 7,
      "outputs": [
        {
          "output_type": "stream",
          "name": "stdout",
          "text": [
            "Looking in indexes: https://pypi.org/simple, https://us-python.pkg.dev/colab-wheels/public/simple/\n",
            "Requirement already satisfied: python-docx in /usr/local/lib/python3.8/dist-packages (0.8.11)\n",
            "Requirement already satisfied: lxml>=2.3.2 in /usr/local/lib/python3.8/dist-packages (from python-docx) (4.9.2)\n"
          ]
        }
      ]
    },
    {
      "cell_type": "code",
      "source": [],
      "metadata": {
        "id": "-iqRe3s_wKBS"
      },
      "execution_count": 7,
      "outputs": []
    },
    {
      "cell_type": "markdown",
      "source": [
        "**Remove newlines & Tabs:**"
      ],
      "metadata": {
        "id": "DOBJpwlgH4_h"
      }
    },
    {
      "cell_type": "code",
      "source": [
        "def remove_newlines_tabs(text):\n",
        "    # Replacing all the occurrences of \\n,\\\\n,\\t,\\\\ with a space.\n",
        "    Formatted_text = text.replace('\\\\n', ' ').replace('\\n', ' ').replace('\\t',' ').replace('\\\\', ' ').replace('. com', '.com')\n",
        "    return Formatted_text\n",
        "    "
      ],
      "metadata": {
        "id": "JVEdI54v5btc"
      },
      "execution_count": 8,
      "outputs": []
    },
    {
      "cell_type": "code",
      "source": [
        "\n",
        "texts=remove_newlines_tabs(str(texts))\n"
      ],
      "metadata": {
        "id": "LpO2AmYOkMns"
      },
      "execution_count": 9,
      "outputs": []
    },
    {
      "cell_type": "markdown",
      "source": [
        "**Remove Whitespaces**"
      ],
      "metadata": {
        "id": "8yZL8s6cIDrZ"
      }
    },
    {
      "cell_type": "code",
      "source": [
        "\n",
        "def remove_whitespace(text):\n",
        "    pattern = re.compile(r'\\s+') \n",
        "    Without_whitespace = re.sub(pattern, ' ', text)\n",
        "    # There are some instances where there is no space after '?' & ')', \n",
        "    # So I am replacing these with one space so that It will not consider two words as one token.\n",
        "    text = Without_whitespace.replace('?', ' ? ').replace(')', ') ')\n",
        "    return text \n",
        "    "
      ],
      "metadata": {
        "id": "444vOlPOICVj"
      },
      "execution_count": 10,
      "outputs": []
    },
    {
      "cell_type": "code",
      "source": [
        "\n",
        "texts=remove_whitespace(texts)\n"
      ],
      "metadata": {
        "id": "7zMSvyrzICaS"
      },
      "execution_count": 11,
      "outputs": []
    },
    {
      "cell_type": "markdown",
      "source": [
        "**Reducing repeated characters and punctuations**"
      ],
      "metadata": {
        "id": "kHuuWjLjJGrx"
      }
    },
    {
      "cell_type": "code",
      "source": [
        "\n",
        "# Code for removing repeated characters and punctuations\n",
        "\n",
        "def reducing_incorrect_character_repeatation(text):\n",
        "\n",
        "    # Pattern matching for all case alphabets\n",
        "    Pattern_alpha = re.compile(r\"([A-Za-z])\\1{1,}\", re.DOTALL)\n",
        "    \n",
        "    # Limiting all the  repeatation to two characters.\n",
        "    Formatted_text = Pattern_alpha.sub(r\"\\1\\1\", text) \n",
        "    \n",
        "    # Pattern matching for all the punctuations that can occur\n",
        "    Pattern_Punct = re.compile(r'([.,/#!$%^&*?;:{}=_`~()+-])\\1{1,}')\n",
        "    \n",
        "    # Limiting punctuations in previously formatted string to only one.\n",
        "    Combined_Formatted = Pattern_Punct.sub(r'\\1', Formatted_text)\n",
        "    \n",
        "    # The below statement is replacing repeatation of spaces that occur more than two times with that of one occurrence.\n",
        "    Final_Formatted = re.sub(' {2,}',' ', Combined_Formatted)\n",
        "    return Final_Formatted\n",
        "    "
      ],
      "metadata": {
        "id": "MIoKLV4MI2Sj"
      },
      "execution_count": 12,
      "outputs": []
    },
    {
      "cell_type": "code",
      "source": [
        "\n",
        "texts=reducing_incorrect_character_repeatation(texts)\n"
      ],
      "metadata": {
        "id": "dxU7oXoYI2Wa"
      },
      "execution_count": 13,
      "outputs": []
    },
    {
      "cell_type": "code",
      "source": [
        "\n",
        "def spelling_correction(text):\n",
        "\n",
        "    # Check for spellings in English language\n",
        "    spell = Speller(lang='en')\n",
        "    Corrected_text = spell(text)\n",
        "    return Corrected_text\n"
      ],
      "metadata": {
        "id": "ddO7bLD2hfhJ"
      },
      "execution_count": 14,
      "outputs": []
    },
    {
      "cell_type": "code",
      "source": [
        "texts=spelling_correction(texts)"
      ],
      "metadata": {
        "id": "7Hx86xVYVmXb"
      },
      "execution_count": 15,
      "outputs": []
    },
    {
      "cell_type": "code",
      "source": [
        "import nltk\n",
        "nltk.download('punkt')\n",
        "nltk.download('stopwords')\n",
        "nltk.download('wordnet')\n",
        "nltk.download('omw-1.4')"
      ],
      "metadata": {
        "colab": {
          "base_uri": "https://localhost:8080/"
        },
        "id": "9jJ20-PWq8fS",
        "outputId": "a4e9fcba-5cd6-49cd-e3e5-9671eacdb37a"
      },
      "execution_count": 16,
      "outputs": [
        {
          "output_type": "stream",
          "name": "stderr",
          "text": [
            "[nltk_data] Downloading package punkt to /root/nltk_data...\n",
            "[nltk_data]   Package punkt is already up-to-date!\n",
            "[nltk_data] Downloading package stopwords to /root/nltk_data...\n",
            "[nltk_data]   Package stopwords is already up-to-date!\n",
            "[nltk_data] Downloading package wordnet to /root/nltk_data...\n",
            "[nltk_data]   Package wordnet is already up-to-date!\n",
            "[nltk_data] Downloading package omw-1.4 to /root/nltk_data...\n",
            "[nltk_data]   Package omw-1.4 is already up-to-date!\n"
          ]
        },
        {
          "output_type": "execute_result",
          "data": {
            "text/plain": [
              "True"
            ]
          },
          "metadata": {},
          "execution_count": 16
        }
      ]
    },
    {
      "cell_type": "code",
      "source": [
        "\n",
        "from nltk.stem import PorterStemmer\n",
        "from nltk.corpus import stopwords\n",
        "\n"
      ],
      "metadata": {
        "id": "yxfYs3JSq8mP"
      },
      "execution_count": 17,
      "outputs": []
    },
    {
      "cell_type": "code",
      "source": [
        "#texts"
      ],
      "metadata": {
        "id": "nE5I1MxttltD"
      },
      "execution_count": 18,
      "outputs": []
    },
    {
      "cell_type": "code",
      "source": [
        "\n",
        "# sentences=nltk.sent_tokenize(texts)\n",
        "# sentences"
      ],
      "metadata": {
        "id": "SOCeRE_Uq8pG"
      },
      "execution_count": 19,
      "outputs": []
    },
    {
      "cell_type": "code",
      "source": [],
      "metadata": {
        "id": "nQFWeqVOq8tj"
      },
      "execution_count": 19,
      "outputs": []
    },
    {
      "cell_type": "markdown",
      "source": [
        "**split the dataset into some chunks according to Article number**"
      ],
      "metadata": {
        "id": "F4ci_s_PGKvw"
      }
    },
    {
      "cell_type": "code",
      "source": [
        "\n",
        "chunk = texts.split(\"Chunk \")\n",
        "#x\n"
      ],
      "metadata": {
        "id": "qcYw6A4XkyZh"
      },
      "execution_count": 30,
      "outputs": []
    },
    {
      "cell_type": "markdown",
      "source": [
        "**Total number of chunks**"
      ],
      "metadata": {
        "id": "iwRpHfhMG8eq"
      }
    },
    {
      "cell_type": "code",
      "source": [
        "\n",
        "print(\"total number of chunks : \",len(chunk))\n"
      ],
      "metadata": {
        "colab": {
          "base_uri": "https://localhost:8080/"
        },
        "id": "LSf6TWdbGbEk",
        "outputId": "bfbb5348-d325-4ace-c66d-674abbaa2f74"
      },
      "execution_count": 33,
      "outputs": [
        {
          "output_type": "stream",
          "name": "stdout",
          "text": [
            "total number of chunks :  26\n"
          ]
        }
      ]
    },
    {
      "cell_type": "code",
      "source": [
        "\n",
        "chunk[0]\n"
      ],
      "metadata": {
        "colab": {
          "base_uri": "https://localhost:8080/",
          "height": 140
        },
        "id": "TlWB11swkycq",
        "outputId": "32c7085f-94fa-4fdd-a9a4-14732ff90c0d"
      },
      "execution_count": 34,
      "outputs": [
        {
          "output_type": "execute_result",
          "data": {
            "text/plain": [
              "' Disclaimer: All of the translations contained on this website are unofficial. Only the original Slovene texts of the laws and regulations have legal effect, and the translations are to be used solely as reference materials to aid in the understanding of Slovene laws and regulations. The Government of the Republic of Slovenia is not responsible for the accuracy, reliability or currency of the translations provided on this website, or for any consequence resulting from the use of information on this website. For all purposes of interpreting and applying law to any legal issue or dispute, users should consult the original Slovene texts published in the Official Gazette of the Republic of Slovenia. The unofficial consolidated version of the Agricultural Land Act comprises: - Agricultural Land Act – ZZ (Official Gazette of the Republic of Slovenia [Radii list S], No. 59/96 of 25 October 1996) , - Decision abrogating the provision of paragraph two of Article 124 of the Agricultural Land Act (Official Gazette of the Republic of Slovenia [Radii list S], No. 31/98 of 18 April 1998) , - Replacement of the Retail Price Index by the Cost of Living Index Act – NIC (Official Gazette of the Republic of Slovenia [Radii list S], No. 1/99 of 9 January 1999) , - Agriculture Act – Name (Official Gazette of the Republic of Slovenia [Radii list S], No. 54/00 of 16 June 2000) , - Decision abrogating the first sentence of paragraph two of Article 115 of the Agricultural Land Act and abrogating part of the second sentence of paragraph two of Article 115 of the same Act (Official Gazette of the Republic of Slovenia [Radii list S], No. 68/00 of 31 July 2000) , - Decision abrogating Chapter In of the Agricultural Land Act with a suspension deadline of one year (Official Gazette of the Republic of Slovenia [Radii list S], No. 68/00 of 31 July 2000) , - Marine Fisheries Act – MR-1 (Official Gazette of the Republic of Slovenia [Radii list S], No. 58/02 of 4 July 2002) , - Act Amending the Agricultural Land Act – ZZ-A (Official Gazette of the Republic of Slovenia [Radii list S], No. 67/02 of 26 July 2002) , - Spatial Management Act – Ure-1 (Official Gazette of the Republic of Slovenia [Radii list S], No. 110/02 of 18 December 2002) , - Construction Act – GO-1 (Official Gazette of the Republic of Slovenia [Radii list S], No. 110/02 of 18 December 2002) , - Act Amending the Agricultural Land Act – ZZ-B (Official Gazette of the Republic of Slovenia [Radii list S], No. 36/03 of 16 April 2003) , - Agricultural Land Act – Official Consolidated Text – ZZ-UP1 (Official Gazette of the Republic of Slovenia [Radii list S], No. 55/03 of 9 June 2003) , - Act Amending the Agricultural Land Act – ZZ-C (Official Gazette of the Republic of Slovenia [Radii list S], No. 43/11 of 2 June 2011) , - Agricultural Land Act – Official Consolidated Text – ZZ-UP2 (Official Gazette of the Republic of Slovenia [Radii list S], No. 71/11 of 9 September 2011) , - Act Amending the Agricultural Land Act – ZZ-D (Official Gazette of the Republic of Slovenia [Radii list S], No. 58/12 of 31 July 2012) , - Act Amending the Agricultural Land Act – ZZ-E (Official Gazette of the Republic of Slovenia [Radii list S], No. 27/16 of 11 April 2016) , - Act Amending the Agriculture Act – Name-1D (Official Gazette of the Republic of Slovenia [Radii list S], No. 27/17 of 2 June 2017) , - Act Amending the Agricultural Land Act – ZZ-F (Official Gazette of the Republic of Slovenia [Radii list S], No. 79/17 of 28 December 2017) . AGRICULTURAL AND CT (ZZ) (Unofficial consolidated version No. 17) I. GENERAL PROVISIONS '"
            ],
            "application/vnd.google.colaboratory.intrinsic+json": {
              "type": "string"
            }
          },
          "metadata": {},
          "execution_count": 34
        }
      ]
    },
    {
      "cell_type": "code",
      "source": [
        "\n",
        "chunk[1]\n"
      ],
      "metadata": {
        "colab": {
          "base_uri": "https://localhost:8080/",
          "height": 70
        },
        "id": "UPe5KN6Ukye3",
        "outputId": "0003f30e-98cc-498e-c8a1-e9605323debe"
      },
      "execution_count": 35,
      "outputs": [
        {
          "output_type": "execute_result",
          "data": {
            "text/plain": [
              "'(Article 1) This Act regulates the protection and management of agricultural land by laying down its classification, use and cultivation, agricultural land transactions and lease arrangements, agricultural operations and common pasture. The provisions of this Act shall also apply mutation mutants to forests unless otherwise provided by an Act. '"
            ],
            "application/vnd.google.colaboratory.intrinsic+json": {
              "type": "string"
            }
          },
          "metadata": {},
          "execution_count": 35
        }
      ]
    },
    {
      "cell_type": "code",
      "source": [
        "\n",
        "chunk[2]\n"
      ],
      "metadata": {
        "colab": {
          "base_uri": "https://localhost:8080/",
          "height": 53
        },
        "id": "989LlWEekyhe",
        "outputId": "4e45665b-ee50-4d82-9727-1cf5701cde99"
      },
      "execution_count": 36,
      "outputs": [
        {
          "output_type": "execute_result",
          "data": {
            "text/plain": [
              "'(Article 1a) The goals of this Act shall be the following: - to preserve and improve production potential and increase agricultural land area intended for food production; - to foster the sustainable management of fertile soil; - to foster landscape preservation and preserve and develop rural areas. '"
            ],
            "application/vnd.google.colaboratory.intrinsic+json": {
              "type": "string"
            }
          },
          "metadata": {},
          "execution_count": 36
        }
      ]
    },
    {
      "cell_type": "code",
      "source": [
        "\n",
        "chunk[3]\n"
      ],
      "metadata": {
        "colab": {
          "base_uri": "https://localhost:8080/",
          "height": 140
        },
        "id": "vTT6PyVzkyj1",
        "outputId": "0deaad02-03b3-4012-cb2c-da85289891c8"
      },
      "execution_count": 37,
      "outputs": [
        {
          "output_type": "execute_result",
          "data": {
            "text/plain": [
              "'(Article 1b) In order to achieve the goals referred to in the preceding Article, the Government of the Republic of Slovenia (hereafter: Government) shall adopt agricultural land policy measures. The subject of agricultural land policy measures shall be agricultural land as referred to in paragraph two of Article 2 of his Act. The funds for drawing up and implementing agricultural land policy measures shall be provided from: - compensation due to the conversion of agricultural land to other uses; - other budgetary funds of the Republic of Slovenia; - other sources. Agricultural land policy measures shall address the overgrown of agricultural land and the implementation of agricultural operations. The Agency of the Republic of Slovenia for Agricultural Markets and Rural Development shall be responsible for the implementation of the measures referred to in the preceding paragraph. For these measures, the provisions of the Act regulating agriculture shall apply to beneficiaries, while the provisions of the aforementioned Act that regulate the procedure for the implementation of rural development policy measures shall apply to the procedure for the implementation of measures. The measures referred to in paragraph four of this Article may also be carried out by the Farmland and Forest Fund of the Republic of Slovenia (hereafter: Fund) ; in addition, the purchase of agricultural land by the Fund shall also be deemed to be an agricultural land policy measure. The Fund shall carry out these measures in accordance with the approved annual work programme. The funds referred to in paragraph four of this Article acquired by the Fund for the implementation of the measures referred to in this paragraph shall be included in the funds acquired by the Fund in accordance with the Act regulating the Farmland and Forest Fund of the Republic of Slovenia. '"
            ],
            "application/vnd.google.colaboratory.intrinsic+json": {
              "type": "string"
            }
          },
          "metadata": {},
          "execution_count": 37
        }
      ]
    },
    {
      "cell_type": "code",
      "source": [
        "\n",
        "chunk[4]\n"
      ],
      "metadata": {
        "colab": {
          "base_uri": "https://localhost:8080/",
          "height": 122
        },
        "id": "8rcriDWwkymJ",
        "outputId": "f2115b79-95be-4726-aae2-0fb8e56c790f"
      },
      "execution_count": 38,
      "outputs": [
        {
          "output_type": "execute_result",
          "data": {
            "text/plain": [
              "'(Article 1ba) The funds collected from compensation due to the conversion of agricultural land to other uses may be appropriated for the funding of the construction, remediation or modernisation of water reservoirs that have the status of water infrastructure in accordance with the regulations governing waters and are also intended for the irrigation of agricultural land. The amount of funding as well as mutual rights, obligations and deadlines shall be stipulated by a contract between the ministry responsible for agriculture and the person investing in works on the water reservoir referred to in the preceding paragraph. The percentage of funds allocated for the works referred to in the preceding paragraph may not exceed the percentage of the volume of the water reservoir that is intended for the irrigation of agricultural land. '"
            ],
            "application/vnd.google.colaboratory.intrinsic+json": {
              "type": "string"
            }
          },
          "metadata": {},
          "execution_count": 38
        }
      ]
    },
    {
      "cell_type": "code",
      "source": [
        "\n",
        "chunk[5]\n"
      ],
      "metadata": {
        "colab": {
          "base_uri": "https://localhost:8080/",
          "height": 140
        },
        "id": "4flHisiEkyoN",
        "outputId": "d7d9adc0-f32b-423a-e3f5-dc69193debf1"
      },
      "execution_count": 39,
      "outputs": [
        {
          "output_type": "execute_result",
          "data": {
            "text/plain": [
              "'(Article 1c) For the drawing up of the background documents referred to in paragraph two of Article 3c of this Act, the study referred to in paragraph eight of Article 3c of this Act and the analyses referred to in paragraphs five and six of Article 3e of this Act, and for the drawing up of proposals for the introduction of agricultural operations and studies related thereto, the organisations referred to in Article 3f of this Act, the producers and rafters of spatial planning documents and the entities proposing agricultural operations shall obtain data from official databases, except personal data. For the drawing up of proposals for the introduction of agricultural operations and other studies related thereto, entities proposing agricultural operations may, in addition to the data referred to in the preceding paragraph, obtain and further process the following personal data from the land register: personal name, residential address and unique personal identification number (hereafter: PIN) of owners or losses. For the purpose of drawing up the study referred to in paragraph eight of Article 3c of this Act and the analyses referred to in paragraph six of Article 3e of this Act, producers and rafters of spatial documents may obtain and use data on the identification number of agricultural holdings in relation to the corresponding graphical land use units of agricultural holdings from the register of agricultural holdings kept in accordance with the Act regulating agriculture. The ministry responsible for agriculture, the organisations referred to in Article 3f of this Act, the producers and rafters of spatial documents and entities proposing agricultural operations may obtain data on agricultural land from official databases free of charge. In. THE CLASSIFICATION, PROTECTION, SE AND CULTIVATION Of AGRICULTURAL AND '"
            ],
            "application/vnd.google.colaboratory.intrinsic+json": {
              "type": "string"
            }
          },
          "metadata": {},
          "execution_count": 39
        }
      ]
    },
    {
      "cell_type": "code",
      "source": [
        "\n",
        "chunk[25]\n"
      ],
      "metadata": {
        "colab": {
          "base_uri": "https://localhost:8080/",
          "height": 140
        },
        "id": "3tKwFqz5HIcm",
        "outputId": "40c02d49-1288-414c-cf64-7d64c956770a"
      },
      "execution_count": 40,
      "outputs": [
        {
          "output_type": "execute_result",
          "data": {
            "text/plain": [
              "'(Article 7) An owner, lesser or other user of agricultural land referred to in paragraph three of Article 2 of this Act must: - cultivate agricultural land with due diligence; - prevent the natural succession of vegetation on agricultural land, except on agricultural land that, in accordance with the regulation governing the records of actual land use, meets the conditions for land use classified as \"trees and shrubs\"; - use farming methods appropriate for the land and location in order to prevent soil completion, erosion and pollution and to ensure the permanent fertility of land. For more efficient implementation of indent one of the preceding paragraph, notwithstanding the provisions of the Law of Property Code, the following shall be sufficient for the determination of agricultural land user and land use practices: - the consent of co-owners whose undivided interest represents more than half of the surface area of the land, if agricultural land is co-owned, - the consent of more than half of the owners if agricultural land is co-owned. If the agricultural inspection authority establishes that an owner, lesser or other user of agricultural land fails to act in accordance with indent one of paragraph one of this Article, it shall impose the implementation of appropriate measures by a decision. An owner, lesser or other user of agricultural land must carry out such measures within the time limits set by the decision, which, however, may not exceed a period of one year. If the agricultural inspection authority establishes that an owner, lesser or other user of agricultural land fails to act in accordance with indent two of paragraph one of this Article, it shall impose the implementation of appropriate measures by a decision. An owner, lesser or other user of agricultural land must carry out such measures no later than within a year of being served the decision; otherwise, the necessary measures shall be carried out at the expense of the owner, lesser or other user of agricultural land in an executive procedure. If the implementation of the measures referred to in indent two of paragraph one of this Article cannot be imposed upon the owner of agricultural land because his or her residence is unknown and he or she has no legal representative, such land shall be transferred to the Fund for temporary management. An agricultural inspector shall notify an administrative unit of the owner of agricultural land with an unknown residence and without a legal representative and carry out the procedure for the transfer of such land to the Fund for temporary management. An administrative unit shall submit a proposal to a social work centre that a trustee be appointed for this specific case, who shall participate in the procedure for the transfer of such land to the Fund for temporary management. The right to the temporary management of agricultural land shall ex officio be entered in the land register on the basis of the final decision of an administrative unit. An owner may submit an application to an administrative unit for the cessation of temporary management. Temporary management shall cease upon the decision on the cessation of temporary management becoming final. If such agricultural land has been leased out and the owner and lesser do not agree otherwise, the lease shall cease three years after the decision on the cessation of temporary management becomes final, while the lesser shall have the right to cultivate the land until the crops have been harvested, but no later than until the end of the calendar year. In cases referred to in the preceding paragraph, the owner of agricultural land shall be obliged to refund to the Fund or possible lesser all expenses and investments related to the land; if the land was leased out, the owner shall be entitled to half of the rent over the lease period during temporary management. The Government shall determine detailed criteria for assessing whether an owner, lesser or other user of agricultural land has acted with due diligence. Persons who are not owners, losses or other users of agricultural land shall use agricultural land on their own responsibility. '"
            ],
            "application/vnd.google.colaboratory.intrinsic+json": {
              "type": "string"
            }
          },
          "metadata": {},
          "execution_count": 40
        }
      ]
    },
    {
      "cell_type": "code",
      "source": [],
      "metadata": {
        "id": "iYVtAlK1Y9L0"
      },
      "execution_count": 40,
      "outputs": []
    },
    {
      "cell_type": "code",
      "source": [],
      "metadata": {
        "id": "i7ewsOW5jtup"
      },
      "execution_count": 40,
      "outputs": []
    }
  ]
}